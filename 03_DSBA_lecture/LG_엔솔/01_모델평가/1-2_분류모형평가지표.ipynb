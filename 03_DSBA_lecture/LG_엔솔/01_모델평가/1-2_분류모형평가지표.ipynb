{
 "cells": [
  {
   "attachments": {},
   "cell_type": "markdown",
   "metadata": {},
   "source": [
    "### 관련 라이브러리 로드"
   ]
  },
  {
   "cell_type": "code",
   "execution_count": null,
   "metadata": {},
   "outputs": [],
   "source": [
    "# 한국어 폰트를 설치합니다. \n",
    "!sudo apt-get install -y fonts-nanum\n",
    "!sudo fc-cache -fv\n",
    "!rm ~/.cache/matplotlib -rf"
   ]
  },
  {
   "cell_type": "code",
   "execution_count": 130,
   "metadata": {},
   "outputs": [],
   "source": [
    "import pandas as pd\n",
    "import numpy as np\n",
    "import copy\n",
    "import random \n",
    "\n",
    "import matplotlib.pyplot as plt\n",
    "import seaborn as sns\n",
    "# 브라우저에서 바로 그려지도록 \n",
    "%matplotlib inline\n",
    "\n",
    "# 그래프에 retina display 적용\n",
    "%config InlineBackend.figure_format = 'retina'\n",
    "\n",
    "# Colab 의 한글 폰트 설정\n",
    "plt.rc('font', family='NanumBarunGothic') \n",
    "\n",
    "sns.set_style('whitegrid')\n",
    "\n",
    "from sklearn import metrics\n",
    "from sklearn.model_selection import train_test_split\n",
    "from sklearn.tree import DecisionTreeClassifier\n",
    "from sklearn.svm import SVC\n",
    "from sklearn.linear_model import LogisticRegression\n"
   ]
  },
  {
   "attachments": {},
   "cell_type": "markdown",
   "metadata": {},
   "source": [
    "### Confusion Matrix 소개\n",
    "Confusion Matrix는 실제 값과 예측 값을 바탕으로 정사각행렬을 구성하여 다양한 분류 모형 평가 지표 계산을 용이하도록 합니다. 일반적으로 다음과 같이 형성됩니다. "
   ]
  },
  {
   "attachments": {},
   "cell_type": "markdown",
   "metadata": {},
   "source": [
    "Confusion Matrix를 이용하여 accuracy, recall, precision, f1 score 계산이 간단히 이루어지기 때문에, 아래와 같이 하나의 함수를 통해 구현이 가능합니다. "
   ]
  },
  {
   "cell_type": "code",
   "execution_count": 131,
   "metadata": {},
   "outputs": [],
   "source": [
    "def get_metric(prediction, actual) :\n",
    "    # prediction : 예측값\n",
    "    # actual : 실제값\n",
    "    # confusion_matrix : 혼동행렬\n",
    "    # TP : True Positive\n",
    "    # TN : True Negative\n",
    "    # FP : False Positive\n",
    "    # FN : False Negative\n",
    "    # accuracy : 정확도\n",
    "    # precision : 정밀도\n",
    "    # recall : 재현율\n",
    "    # f1-score : F1 점수\n",
    "    # support : 데이터 건수\n",
    "    confusion_matrix = pd.crosstab(prediction, actual, rownames=['Predicted'], colnames=['Actual'], margins=True)\n",
    "    accuracy = (confusion_matrix[0][0] + confusion_matrix[1][1]) / (confusion_matrix[0][0] + confusion_matrix[0][1] + confusion_matrix[1][0] + confusion_matrix[1][1])\n",
    "    precision = confusion_matrix[1][1] / (confusion_matrix[0][1] + confusion_matrix[1][1])\n",
    "    recall = confusion_matrix[1][1] / (confusion_matrix[1][0] + confusion_matrix[1][1])\n",
    "    f1_score = 2 * precision * recall / (precision + recall)\n",
    "    auroc = metrics.roc_auc_score(actual, prediction)\n",
    "    return confusion_matrix, accuracy, precision, recall, f1_score, auroc"
   ]
  },
  {
   "attachments": {},
   "cell_type": "markdown",
   "metadata": {},
   "source": [
    "다만, 각 요소의 구동 방식을 이해하기 위해 하나씩 진행해보도록 하겠습니다. "
   ]
  },
  {
   "attachments": {},
   "cell_type": "markdown",
   "metadata": {},
   "source": [
    "#### 1-0. 예시 작성\n",
    "다음과 같은 모델의 예측값과 실제 값이 있다고 하겠습니다.  \n",
    "이때, 저희가 집중적으로 관찰하고 싶은 예측 범주(공정 상 불량 제품 여부)를 1로 설정하고, 이외 범주(정상 제품)을 0으로 설정하겠습니다. "
   ]
  },
  {
   "cell_type": "code",
   "execution_count": 132,
   "metadata": {},
   "outputs": [
    {
     "data": {
      "text/html": [
       "<div>\n",
       "<style scoped>\n",
       "    .dataframe tbody tr th:only-of-type {\n",
       "        vertical-align: middle;\n",
       "    }\n",
       "\n",
       "    .dataframe tbody tr th {\n",
       "        vertical-align: top;\n",
       "    }\n",
       "\n",
       "    .dataframe thead th {\n",
       "        text-align: right;\n",
       "    }\n",
       "</style>\n",
       "<table border=\"1\" class=\"dataframe\">\n",
       "  <thead>\n",
       "    <tr style=\"text-align: right;\">\n",
       "      <th>Actual</th>\n",
       "      <th>0</th>\n",
       "      <th>1</th>\n",
       "    </tr>\n",
       "    <tr>\n",
       "      <th>Predicted</th>\n",
       "      <th></th>\n",
       "      <th></th>\n",
       "    </tr>\n",
       "  </thead>\n",
       "  <tbody>\n",
       "    <tr>\n",
       "      <th>0</th>\n",
       "      <td>3</td>\n",
       "      <td>1</td>\n",
       "    </tr>\n",
       "    <tr>\n",
       "      <th>1</th>\n",
       "      <td>2</td>\n",
       "      <td>4</td>\n",
       "    </tr>\n",
       "  </tbody>\n",
       "</table>\n",
       "</div>"
      ],
      "text/plain": [
       "Actual     0  1\n",
       "Predicted      \n",
       "0          3  1\n",
       "1          2  4"
      ]
     },
     "execution_count": 132,
     "metadata": {},
     "output_type": "execute_result"
    }
   ],
   "source": [
    "prediction = [1, 1, 1, 1, 1, 0, 0, 0, 0, 1]\n",
    "actual     = [1, 0, 1, 1, 1, 0, 1, 0, 0, 0]\n",
    "\n",
    "confusion_matrix = pd.crosstab(prediction, actual, rownames=['Predicted'], colnames=['Actual'])\n",
    "confusion_matrix"
   ]
  },
  {
   "attachments": {},
   "cell_type": "markdown",
   "metadata": {},
   "source": [
    "#### 1-1. Accuracy 계산"
   ]
  },
  {
   "attachments": {},
   "cell_type": "markdown",
   "metadata": {},
   "source": [
    "정확도는 아래와 같이 구성되므로 실제 Confusion Matrix의 해당 성분을 이용하여 계산할 수 있습니다.  \n",
    "$$ accuracy = {(n_{11} + n_{00}) \\over (n_{11} + n_{10} + n_{01} + n_{00})} $$"
   ]
  },
  {
   "cell_type": "code",
   "execution_count": 133,
   "metadata": {},
   "outputs": [
    {
     "data": {
      "text/plain": [
       "0.7"
      ]
     },
     "execution_count": 133,
     "metadata": {},
     "output_type": "execute_result"
    }
   ],
   "source": [
    "accuracy = (confusion_matrix[0][0] + confusion_matrix[1][1]) / (confusion_matrix[0][0] + confusion_matrix[0][1] + confusion_matrix[1][0] + confusion_matrix[1][1])\n",
    "accuracy"
   ]
  },
  {
   "attachments": {},
   "cell_type": "markdown",
   "metadata": {},
   "source": [
    "#### 1-2. Recall 계산"
   ]
  },
  {
   "attachments": {},
   "cell_type": "markdown",
   "metadata": {},
   "source": [
    "재현율은 아래와 같이 구성되므로 실제 Confusion Matrix의 해당 성분을 이용하여 계산할 수 있습니다.  \n",
    "$$ recall = {n_{11} \\over (n_{11} + n_{10})}"
   ]
  },
  {
   "cell_type": "code",
   "execution_count": 134,
   "metadata": {},
   "outputs": [
    {
     "data": {
      "text/plain": [
       "0.8"
      ]
     },
     "execution_count": 134,
     "metadata": {},
     "output_type": "execute_result"
    }
   ],
   "source": [
    "recall = confusion_matrix[1][1] / (confusion_matrix[1][0] + confusion_matrix[1][1])\n",
    "recall"
   ]
  },
  {
   "attachments": {},
   "cell_type": "markdown",
   "metadata": {},
   "source": [
    "#### 1-3. Precision 계산\n",
    "정밀도는 아래와 같이 구성되므로 실제 Confustion Matrix의 해당 성분을 이용하여 계산할 수 있습니다. \n",
    "$$ precision = {n_{11} \\over (n_{11} + n_{01})} $$"
   ]
  },
  {
   "cell_type": "code",
   "execution_count": 135,
   "metadata": {},
   "outputs": [
    {
     "data": {
      "text/plain": [
       "0.6666666666666666"
      ]
     },
     "execution_count": 135,
     "metadata": {},
     "output_type": "execute_result"
    }
   ],
   "source": [
    "precision = confusion_matrix[1][1] / (confusion_matrix[0][1] + confusion_matrix[1][1])\n",
    "precision"
   ]
  },
  {
   "attachments": {},
   "cell_type": "markdown",
   "metadata": {},
   "source": [
    "#### 1-4. F1 Score 계산\n",
    "F1 Score는 아래와 같이 구성되므로 실제 Confusion Matrix에서 계산된 recall과 precision을 이용하여 계산할 수 있습니다.  \n",
    "$$ F1 Score = {2 \\times recall \\times precision \\over recall + precision} $$"
   ]
  },
  {
   "cell_type": "code",
   "execution_count": 136,
   "metadata": {},
   "outputs": [
    {
     "data": {
      "text/plain": [
       "0.7272727272727272"
      ]
     },
     "execution_count": 136,
     "metadata": {},
     "output_type": "execute_result"
    }
   ],
   "source": [
    "f1_score = 2 * precision * recall / (precision + recall)\n",
    "f1_score"
   ]
  },
  {
   "attachments": {},
   "cell_type": "markdown",
   "metadata": {},
   "source": [
    "#### 1-5. AUROC 계산\n",
    "AUROC는 모델의 예측 확률을 기반으로 계산됩니다. 그러므로 이전까지의 계산과 다르게 모델이 각 데이터에 대해 1일 확률을 예측한 값을 기반으로 아래와 같이 계산될 수 있습니다. 실제 계산 시에는 sklearn 패키지 내의 함수를 이용합니다. 하지만 동작 원리를 파악하기 위해서 1) fpr, tpr 계산 공식 2) 사다리꼴 넓이 계산 공식 3) AUROC 계산 함수를 구현해보겠습니다. "
   ]
  },
  {
   "attachments": {},
   "cell_type": "markdown",
   "metadata": {},
   "source": [
    "### 1-5-1. FPR, TPR 계산 함수"
   ]
  },
  {
   "attachments": {},
   "cell_type": "markdown",
   "metadata": {},
   "source": [
    "FPR은 False Positive Rate으로서 실제로 Negative(1)인 객체들에 대해 모델이 Positive(0)로 예측한 비율을 의미합니다. 공식으로 표현하면 아래와 같습니다. "
   ]
  },
  {
   "attachments": {},
   "cell_type": "markdown",
   "metadata": {},
   "source": [
    "$$ FPR = {n_{01} \\over (n_{01} + n_{00})} $$"
   ]
  },
  {
   "attachments": {},
   "cell_type": "markdown",
   "metadata": {},
   "source": [
    "TPR은 True Positive Rate으로서 실제로 Positive인 객체들에 대해 모델이 Positive로 옳바르게 예측한 비율을 의미합니다. 공식으로 표현하면 아래와 같습니다. "
   ]
  },
  {
   "attachments": {},
   "cell_type": "markdown",
   "metadata": {},
   "source": [
    "$$ TPR = {n_{11} \\over (n_{11} + n_{10})}"
   ]
  },
  {
   "cell_type": "code",
   "execution_count": 137,
   "metadata": {},
   "outputs": [],
   "source": [
    "## 위 두 공식을 함수로 구현하면 아래와 같습니다. \n",
    "def get_TPR(confusion_matrix) :\n",
    "    # TPR : True Positive Rate\n",
    "    # TPR : True Positive / (True Positive + False Negative)\n",
    "    return confusion_matrix[1][1] / (confusion_matrix[1][0] + confusion_matrix[1][1])\n",
    "\n",
    "def get_FPR(confusion_matrix) :\n",
    "    # FPR : False Positive Rate\n",
    "    # FPR : False Positive / (False Positive + True Negative)\n",
    "    return confusion_matrix[0][1] / (confusion_matrix[0][0] + confusion_matrix[0][1])\n"
   ]
  },
  {
   "attachments": {},
   "cell_type": "markdown",
   "metadata": {},
   "source": [
    "### 1-5-2. Threshold 별 TPR, FPR 계산"
   ]
  },
  {
   "attachments": {},
   "cell_type": "markdown",
   "metadata": {},
   "source": [
    "ROC는 모델이 예측한 확률에 대해 Threhold를 변경하며, 실제 예측값을 결정하면서 TPR과 FPR의 비율 변화를 모두 기록한 것입니다. 이는 1) Threshold를 변경하며 TPR과 FPR 계산 2) TPR과 FPR을 이용하여 Curve의 아래 넓이 계산 두 함수로 구현될 수 있습니다. "
   ]
  },
  {
   "cell_type": "code",
   "execution_count": 138,
   "metadata": {},
   "outputs": [],
   "source": [
    "def get_confusion_matrix(prediction, actual) :\n",
    "    matrix = pd.DataFrame(data = np.zeros((2, 2)), columns = [1, 0], index = [1, 0])\n",
    "    for i in [1, 0] :\n",
    "        for j in [1, 0] :\n",
    "            pred_i = [pred == i for pred in prediction]\n",
    "            act_j = [act == j for act in actual]\n",
    "            matrix.loc[i, j] = np.sum([pred_i[k] and act_j[k] for k in range(len(prediction))])\n",
    "    return matrix"
   ]
  },
  {
   "cell_type": "code",
   "execution_count": 139,
   "metadata": {},
   "outputs": [],
   "source": [
    "def get_sadari(x_start, x_end, y_small, y_large) :\n",
    "    \"\"\"\n",
    "    AUROC는 사다리꼴 너비의 합으로 계산됩니다. \n",
    "    사다리꼴 너비를 구하는 함수입니다. \n",
    "    \"\"\"\n",
    "    return (y_small + y_large) * (x_end - x_start) / 2\n",
    "\n",
    "def get_AUROC(prediction, actual) :\n",
    "    \"\"\"\n",
    "    AUROC : Area Under the Receiver Operating Characteristic Curve\n",
    "    ROC 곡선의 아래 면적을 구하는 함수입니다. \n",
    "    \"\"\"\n",
    "    # 1. prediction은 확률이므로, prediction을 기준으로 정렬합니다. \n",
    "\n",
    "    prediction_sorted, actual_sorted = zip(*sorted(zip(prediction, actual), reverse=True))\n",
    "\n",
    "    # 2. prediction을 기준으로 정렬된 actual을 기준으로 TPR, FPR을 구합니다.\n",
    "    TPR_list = []\n",
    "    FPR_list = []\n",
    "    for i in range(len(prediction_sorted)) :\n",
    "        if i != len(prediction_sorted) - 1 :\n",
    "            if prediction_sorted[i] == prediction_sorted[i+1] :\n",
    "                continue\n",
    "        prediction_ = [0]*len(prediction_sorted)\n",
    "        prediction_[:i+1] = [1]*(i+1)\n",
    "        confusion_matrix = get_confusion_matrix(prediction_, actual_sorted)\n",
    "        if confusion_matrix.shape != (2,2) :\n",
    "            confusion_matrix = pd.DataFrame([[0,0],[0,0]])\n",
    "        TPR = get_TPR(confusion_matrix)\n",
    "        FPR = get_FPR(confusion_matrix)\n",
    "        TPR_list.append(TPR)\n",
    "        FPR_list.append(FPR)\n",
    "    \n",
    "    # 3. TPR, FPR을 기준으로 사다리꼴의 너비를 구합니다.\n",
    "    AUROC = 0\n",
    "    for i in range(len(TPR_list) - 1) :\n",
    "        AUROC += get_sadari(FPR_list[i], FPR_list[i+1], TPR_list[i], TPR_list[i+1])\n",
    "    return AUROC, TPR_list, FPR_list"
   ]
  },
  {
   "cell_type": "code",
   "execution_count": 140,
   "metadata": {},
   "outputs": [
    {
     "name": "stderr",
     "output_type": "stream",
     "text": [
      "/opt/conda/lib/python3.8/site-packages/IPython/core/pylabtools.py:151: UserWarning: Glyph 44257 (\\N{HANGUL SYLLABLE GOG}) missing from current font.\n",
      "  fig.canvas.print_figure(bytes_io, **kw)\n",
      "/opt/conda/lib/python3.8/site-packages/IPython/core/pylabtools.py:151: UserWarning: Glyph 49440 (\\N{HANGUL SYLLABLE SEON}) missing from current font.\n",
      "  fig.canvas.print_figure(bytes_io, **kw)\n",
      "/opt/conda/lib/python3.8/site-packages/IPython/core/pylabtools.py:151: UserWarning: Glyph 49884 (\\N{HANGUL SYLLABLE SI}) missing from current font.\n",
      "  fig.canvas.print_figure(bytes_io, **kw)\n",
      "/opt/conda/lib/python3.8/site-packages/IPython/core/pylabtools.py:151: UserWarning: Glyph 44033 (\\N{HANGUL SYLLABLE GAG}) missing from current font.\n",
      "  fig.canvas.print_figure(bytes_io, **kw)\n",
      "/opt/conda/lib/python3.8/site-packages/IPython/core/pylabtools.py:151: UserWarning: Glyph 54868 (\\N{HANGUL SYLLABLE HWA}) missing from current font.\n",
      "  fig.canvas.print_figure(bytes_io, **kw)\n",
      "/opt/conda/lib/python3.8/site-packages/IPython/core/pylabtools.py:151: UserWarning: Glyph 47784 (\\N{HANGUL SYLLABLE MO}) missing from current font.\n",
      "  fig.canvas.print_figure(bytes_io, **kw)\n",
      "/opt/conda/lib/python3.8/site-packages/IPython/core/pylabtools.py:151: UserWarning: Glyph 45944 (\\N{HANGUL SYLLABLE DEL}) missing from current font.\n",
      "  fig.canvas.print_figure(bytes_io, **kw)\n",
      "/opt/conda/lib/python3.8/site-packages/IPython/core/pylabtools.py:151: UserWarning: Glyph 50696 (\\N{HANGUL SYLLABLE YE}) missing from current font.\n",
      "  fig.canvas.print_figure(bytes_io, **kw)\n",
      "/opt/conda/lib/python3.8/site-packages/IPython/core/pylabtools.py:151: UserWarning: Glyph 52769 (\\N{HANGUL SYLLABLE CEUG}) missing from current font.\n",
      "  fig.canvas.print_figure(bytes_io, **kw)\n",
      "/opt/conda/lib/python3.8/site-packages/IPython/core/pylabtools.py:151: UserWarning: Glyph 44592 (\\N{HANGUL SYLLABLE GI}) missing from current font.\n",
      "  fig.canvas.print_figure(bytes_io, **kw)\n",
      "/opt/conda/lib/python3.8/site-packages/IPython/core/pylabtools.py:151: UserWarning: Glyph 48152 (\\N{HANGUL SYLLABLE BAN}) missing from current font.\n",
      "  fig.canvas.print_figure(bytes_io, **kw)\n",
      "/opt/conda/lib/python3.8/site-packages/IPython/core/pylabtools.py:151: UserWarning: Glyph 47924 (\\N{HANGUL SYLLABLE MU}) missing from current font.\n",
      "  fig.canvas.print_figure(bytes_io, **kw)\n",
      "/opt/conda/lib/python3.8/site-packages/IPython/core/pylabtools.py:151: UserWarning: Glyph 51089 (\\N{HANGUL SYLLABLE JAG}) missing from current font.\n",
      "  fig.canvas.print_figure(bytes_io, **kw)\n",
      "/opt/conda/lib/python3.8/site-packages/IPython/core/pylabtools.py:151: UserWarning: Glyph 50948 (\\N{HANGUL SYLLABLE WI}) missing from current font.\n",
      "  fig.canvas.print_figure(bytes_io, **kw)\n"
     ]
    },
    {
     "data": {
      "image/png": "[encoded data removed]",
      "text/plain": [
       "<Figure size 432x288 with 1 Axes>"
      ]
     },
     "metadata": {},
     "output_type": "display_data"
    }
   ],
   "source": [
    "actual     = [1, 0, 1, 1, 1, 0, 1, 0, 0, 0]\n",
    "prediction = [0.9, 0.6, 0.6, 0.8, 0.7, 0.2, 0.1, 0.3, 0.2, 0.1]\n",
    "auroc, tpr, fpr = get_AUROC(prediction, actual)\n",
    "plt.plot(fpr, tpr, 'o-', label=\"모델 예측 기반 (AUROC = %0.2f)\" % auroc)\n",
    "plt.plot([0, 1], [0, 1], 'k--', label=\"무작위 예측 시\")\n",
    "plt.xlabel('False Positive Rate')\n",
    "plt.ylabel('True Positive Rate')\n",
    "plt.title('ROC 곡선 시각화')\n",
    "plt.legend(loc=\"lower right\")\n",
    "plt.show()"
   ]
  },
  {
   "cell_type": "code",
   "execution_count": 141,
   "metadata": {},
   "outputs": [
    {
     "name": "stderr",
     "output_type": "stream",
     "text": [
      "/opt/conda/lib/python3.8/site-packages/IPython/core/pylabtools.py:151: UserWarning: Glyph 44257 (\\N{HANGUL SYLLABLE GOG}) missing from current font.\n",
      "  fig.canvas.print_figure(bytes_io, **kw)\n",
      "/opt/conda/lib/python3.8/site-packages/IPython/core/pylabtools.py:151: UserWarning: Glyph 49440 (\\N{HANGUL SYLLABLE SEON}) missing from current font.\n",
      "  fig.canvas.print_figure(bytes_io, **kw)\n",
      "/opt/conda/lib/python3.8/site-packages/IPython/core/pylabtools.py:151: UserWarning: Glyph 49884 (\\N{HANGUL SYLLABLE SI}) missing from current font.\n",
      "  fig.canvas.print_figure(bytes_io, **kw)\n",
      "/opt/conda/lib/python3.8/site-packages/IPython/core/pylabtools.py:151: UserWarning: Glyph 44033 (\\N{HANGUL SYLLABLE GAG}) missing from current font.\n",
      "  fig.canvas.print_figure(bytes_io, **kw)\n",
      "/opt/conda/lib/python3.8/site-packages/IPython/core/pylabtools.py:151: UserWarning: Glyph 54868 (\\N{HANGUL SYLLABLE HWA}) missing from current font.\n",
      "  fig.canvas.print_figure(bytes_io, **kw)\n",
      "/opt/conda/lib/python3.8/site-packages/IPython/core/pylabtools.py:151: UserWarning: Glyph 47784 (\\N{HANGUL SYLLABLE MO}) missing from current font.\n",
      "  fig.canvas.print_figure(bytes_io, **kw)\n",
      "/opt/conda/lib/python3.8/site-packages/IPython/core/pylabtools.py:151: UserWarning: Glyph 45944 (\\N{HANGUL SYLLABLE DEL}) missing from current font.\n",
      "  fig.canvas.print_figure(bytes_io, **kw)\n",
      "/opt/conda/lib/python3.8/site-packages/IPython/core/pylabtools.py:151: UserWarning: Glyph 50696 (\\N{HANGUL SYLLABLE YE}) missing from current font.\n",
      "  fig.canvas.print_figure(bytes_io, **kw)\n",
      "/opt/conda/lib/python3.8/site-packages/IPython/core/pylabtools.py:151: UserWarning: Glyph 52769 (\\N{HANGUL SYLLABLE CEUG}) missing from current font.\n",
      "  fig.canvas.print_figure(bytes_io, **kw)\n",
      "/opt/conda/lib/python3.8/site-packages/IPython/core/pylabtools.py:151: UserWarning: Glyph 44592 (\\N{HANGUL SYLLABLE GI}) missing from current font.\n",
      "  fig.canvas.print_figure(bytes_io, **kw)\n",
      "/opt/conda/lib/python3.8/site-packages/IPython/core/pylabtools.py:151: UserWarning: Glyph 48152 (\\N{HANGUL SYLLABLE BAN}) missing from current font.\n",
      "  fig.canvas.print_figure(bytes_io, **kw)\n",
      "/opt/conda/lib/python3.8/site-packages/IPython/core/pylabtools.py:151: UserWarning: Glyph 47924 (\\N{HANGUL SYLLABLE MU}) missing from current font.\n",
      "  fig.canvas.print_figure(bytes_io, **kw)\n",
      "/opt/conda/lib/python3.8/site-packages/IPython/core/pylabtools.py:151: UserWarning: Glyph 51089 (\\N{HANGUL SYLLABLE JAG}) missing from current font.\n",
      "  fig.canvas.print_figure(bytes_io, **kw)\n",
      "/opt/conda/lib/python3.8/site-packages/IPython/core/pylabtools.py:151: UserWarning: Glyph 50948 (\\N{HANGUL SYLLABLE WI}) missing from current font.\n",
      "  fig.canvas.print_figure(bytes_io, **kw)\n"
     ]
    },
    {
     "data": {
      "image/png": "[encoded data removed]",
      "text/plain": [
       "<Figure size 432x288 with 1 Axes>"
      ]
     },
     "metadata": {},
     "output_type": "display_data"
    }
   ],
   "source": [
    "actual     = [1, 0, 1, 1, 1, 0, 1, 0, 0, 0]\n",
    "prediction = [0.9, 0.6, 0.6, 0.8, 0.7, 0.2, 0.1, 0.3, 0.2, 0.1]\n",
    "\n",
    "def get_auroc(prediction, actual) :\n",
    "    # prediction : 예측값\n",
    "    # actual : 실제값\n",
    "    # auroc : AUROC 점수\n",
    "    # fpr : False Positive Rate\n",
    "    # tpr : True Positive Rate\n",
    "    # thresholds : 임계값\n",
    "    # roc_auc : ROC_AUC 점수\n",
    "    fpr, tpr, thresholds = metrics.roc_curve(actual, prediction)\n",
    "    roc_auc = metrics.auc(fpr, tpr)\n",
    "    return roc_auc, fpr, tpr, thresholds\n",
    "\n",
    "auroc, fpr, tpr, thresholds = get_auroc(prediction, actual)\n",
    "## ROC 곡선 그리기\n",
    "plt.plot(fpr, tpr, 'o-', label=\"모델 예측 기반 (AUROC = %0.2f)\" % auroc)\n",
    "plt.plot([0, 1], [0, 1], 'k--', label=\"무작위 예측 시\")\n",
    "plt.xlabel('False Positive Rate')\n",
    "plt.ylabel('True Positive Rate')\n",
    "plt.title('ROC 곡선 시각화')\n",
    "plt.legend(loc=\"lower right\")\n",
    "plt.show()"
   ]
  },
  {
   "attachments": {},
   "cell_type": "markdown",
   "metadata": {},
   "source": [
    "실제로 아래 웹사이트를 통해 AUROC 커브가 생성되는 과정을 자세히 살펴볼 수 있습니다.  \n",
    "https://arogozhnikov.github.io/2015/10/05/roc-curve.html  \n",
    "모델이 잘못 예측한 값이 적을수록, TPR과 FPR이 겹치는 영역이 줄어들게 되고, threshold 변화에 따라 trade-off 관계가 적어지게 됩니다.  \n",
    "결과적으로 이를 통해 아래 그림처럼 ROC 커브 아래의 크기가 커지고, AUROC(Area Under ROC) 값이 커지는 효과를 얻을 수 있습니다. "
   ]
  },
  {
   "attachments": {},
   "cell_type": "markdown",
   "metadata": {},
   "source": [
    "![AUROC.git](https://arogozhnikov.github.io/images/roc_curve.gif)"
   ]
  },
  {
   "attachments": {},
   "cell_type": "markdown",
   "metadata": {},
   "source": [
    "### 2. 데이터 소개"
   ]
  },
  {
   "attachments": {},
   "cell_type": "markdown",
   "metadata": {},
   "source": [
    "실습 데이터셋은 널리 활용되는 타이타닉 데이터셋입니다. 해당 데이터셋은 실제 타이타닉 호의 승객 데이터를 기반으로 생존 여부를 예측하는 과업을 수행할 수 있습니다. 각 변수에 대한 설명은 다음과 같습니다. \n",
    "\n",
    "1. pclass : 해당 승객의 객실 등급\n",
    "2. age : 해당 승객의 연령\n",
    "3. sibsp : 해당 승객과 함께 탑승한 형제자매 및 배우자 수 \n",
    "4. parch : 해당 승객과 함께 탑승한 부모 수 \n",
    "5. fare : 해당 승객이 타이타닉호 탑승을 위해 지불한 요금\n",
    "6. survived : 해당 승객의 사고 당시 생존 여부"
   ]
  },
  {
   "cell_type": "code",
   "execution_count": 142,
   "metadata": {},
   "outputs": [
    {
     "data": {
      "text/html": [
       "<div>\n",
       "<style scoped>\n",
       "    .dataframe tbody tr th:only-of-type {\n",
       "        vertical-align: middle;\n",
       "    }\n",
       "\n",
       "    .dataframe tbody tr th {\n",
       "        vertical-align: top;\n",
       "    }\n",
       "\n",
       "    .dataframe thead th {\n",
       "        text-align: right;\n",
       "    }\n",
       "</style>\n",
       "<table border=\"1\" class=\"dataframe\">\n",
       "  <thead>\n",
       "    <tr style=\"text-align: right;\">\n",
       "      <th></th>\n",
       "      <th>pclass</th>\n",
       "      <th>age</th>\n",
       "      <th>sibsp</th>\n",
       "      <th>parch</th>\n",
       "      <th>fare</th>\n",
       "      <th>survived</th>\n",
       "    </tr>\n",
       "  </thead>\n",
       "  <tbody>\n",
       "    <tr>\n",
       "      <th>0</th>\n",
       "      <td>3</td>\n",
       "      <td>22.0</td>\n",
       "      <td>1</td>\n",
       "      <td>0</td>\n",
       "      <td>7.2500</td>\n",
       "      <td>0</td>\n",
       "    </tr>\n",
       "    <tr>\n",
       "      <th>1</th>\n",
       "      <td>1</td>\n",
       "      <td>38.0</td>\n",
       "      <td>1</td>\n",
       "      <td>0</td>\n",
       "      <td>71.2833</td>\n",
       "      <td>1</td>\n",
       "    </tr>\n",
       "    <tr>\n",
       "      <th>2</th>\n",
       "      <td>3</td>\n",
       "      <td>26.0</td>\n",
       "      <td>0</td>\n",
       "      <td>0</td>\n",
       "      <td>7.9250</td>\n",
       "      <td>1</td>\n",
       "    </tr>\n",
       "    <tr>\n",
       "      <th>3</th>\n",
       "      <td>1</td>\n",
       "      <td>35.0</td>\n",
       "      <td>1</td>\n",
       "      <td>0</td>\n",
       "      <td>53.1000</td>\n",
       "      <td>1</td>\n",
       "    </tr>\n",
       "    <tr>\n",
       "      <th>4</th>\n",
       "      <td>3</td>\n",
       "      <td>35.0</td>\n",
       "      <td>0</td>\n",
       "      <td>0</td>\n",
       "      <td>8.0500</td>\n",
       "      <td>0</td>\n",
       "    </tr>\n",
       "  </tbody>\n",
       "</table>\n",
       "</div>"
      ],
      "text/plain": [
       "   pclass   age  sibsp  parch     fare  survived\n",
       "0       3  22.0      1      0   7.2500         0\n",
       "1       1  38.0      1      0  71.2833         1\n",
       "2       3  26.0      0      0   7.9250         1\n",
       "3       1  35.0      1      0  53.1000         1\n",
       "4       3  35.0      0      0   8.0500         0"
      ]
     },
     "execution_count": 142,
     "metadata": {},
     "output_type": "execute_result"
    }
   ],
   "source": [
    "titanic=sns.load_dataset('titanic')[['pclass', 'age', 'sibsp', 'parch', 'fare', 'survived']]\n",
    "titanic.head()"
   ]
  },
  {
   "cell_type": "code",
   "execution_count": 143,
   "metadata": {},
   "outputs": [
    {
     "name": "stdout",
     "output_type": "stream",
     "text": [
      "pclass        0\n",
      "age         177\n",
      "sibsp         0\n",
      "parch         0\n",
      "fare          0\n",
      "survived      0\n",
      "dtype: int64\n"
     ]
    },
    {
     "data": {
      "text/html": [
       "<div>\n",
       "<style scoped>\n",
       "    .dataframe tbody tr th:only-of-type {\n",
       "        vertical-align: middle;\n",
       "    }\n",
       "\n",
       "    .dataframe tbody tr th {\n",
       "        vertical-align: top;\n",
       "    }\n",
       "\n",
       "    .dataframe thead th {\n",
       "        text-align: right;\n",
       "    }\n",
       "</style>\n",
       "<table border=\"1\" class=\"dataframe\">\n",
       "  <thead>\n",
       "    <tr style=\"text-align: right;\">\n",
       "      <th></th>\n",
       "      <th>pclass</th>\n",
       "      <th>age</th>\n",
       "      <th>sibsp</th>\n",
       "      <th>parch</th>\n",
       "      <th>fare</th>\n",
       "      <th>survived</th>\n",
       "    </tr>\n",
       "  </thead>\n",
       "  <tbody>\n",
       "    <tr>\n",
       "      <th>5</th>\n",
       "      <td>3</td>\n",
       "      <td>NaN</td>\n",
       "      <td>0</td>\n",
       "      <td>0</td>\n",
       "      <td>8.4583</td>\n",
       "      <td>0</td>\n",
       "    </tr>\n",
       "    <tr>\n",
       "      <th>17</th>\n",
       "      <td>2</td>\n",
       "      <td>NaN</td>\n",
       "      <td>0</td>\n",
       "      <td>0</td>\n",
       "      <td>13.0000</td>\n",
       "      <td>1</td>\n",
       "    </tr>\n",
       "    <tr>\n",
       "      <th>19</th>\n",
       "      <td>3</td>\n",
       "      <td>NaN</td>\n",
       "      <td>0</td>\n",
       "      <td>0</td>\n",
       "      <td>7.2250</td>\n",
       "      <td>1</td>\n",
       "    </tr>\n",
       "    <tr>\n",
       "      <th>26</th>\n",
       "      <td>3</td>\n",
       "      <td>NaN</td>\n",
       "      <td>0</td>\n",
       "      <td>0</td>\n",
       "      <td>7.2250</td>\n",
       "      <td>0</td>\n",
       "    </tr>\n",
       "    <tr>\n",
       "      <th>28</th>\n",
       "      <td>3</td>\n",
       "      <td>NaN</td>\n",
       "      <td>0</td>\n",
       "      <td>0</td>\n",
       "      <td>7.8792</td>\n",
       "      <td>1</td>\n",
       "    </tr>\n",
       "    <tr>\n",
       "      <th>...</th>\n",
       "      <td>...</td>\n",
       "      <td>...</td>\n",
       "      <td>...</td>\n",
       "      <td>...</td>\n",
       "      <td>...</td>\n",
       "      <td>...</td>\n",
       "    </tr>\n",
       "    <tr>\n",
       "      <th>859</th>\n",
       "      <td>3</td>\n",
       "      <td>NaN</td>\n",
       "      <td>0</td>\n",
       "      <td>0</td>\n",
       "      <td>7.2292</td>\n",
       "      <td>0</td>\n",
       "    </tr>\n",
       "    <tr>\n",
       "      <th>863</th>\n",
       "      <td>3</td>\n",
       "      <td>NaN</td>\n",
       "      <td>8</td>\n",
       "      <td>2</td>\n",
       "      <td>69.5500</td>\n",
       "      <td>0</td>\n",
       "    </tr>\n",
       "    <tr>\n",
       "      <th>868</th>\n",
       "      <td>3</td>\n",
       "      <td>NaN</td>\n",
       "      <td>0</td>\n",
       "      <td>0</td>\n",
       "      <td>9.5000</td>\n",
       "      <td>0</td>\n",
       "    </tr>\n",
       "    <tr>\n",
       "      <th>878</th>\n",
       "      <td>3</td>\n",
       "      <td>NaN</td>\n",
       "      <td>0</td>\n",
       "      <td>0</td>\n",
       "      <td>7.8958</td>\n",
       "      <td>0</td>\n",
       "    </tr>\n",
       "    <tr>\n",
       "      <th>888</th>\n",
       "      <td>3</td>\n",
       "      <td>NaN</td>\n",
       "      <td>1</td>\n",
       "      <td>2</td>\n",
       "      <td>23.4500</td>\n",
       "      <td>0</td>\n",
       "    </tr>\n",
       "  </tbody>\n",
       "</table>\n",
       "<p>177 rows × 6 columns</p>\n",
       "</div>"
      ],
      "text/plain": [
       "     pclass  age  sibsp  parch     fare  survived\n",
       "5         3  NaN      0      0   8.4583         0\n",
       "17        2  NaN      0      0  13.0000         1\n",
       "19        3  NaN      0      0   7.2250         1\n",
       "26        3  NaN      0      0   7.2250         0\n",
       "28        3  NaN      0      0   7.8792         1\n",
       "..      ...  ...    ...    ...      ...       ...\n",
       "859       3  NaN      0      0   7.2292         0\n",
       "863       3  NaN      8      2  69.5500         0\n",
       "868       3  NaN      0      0   9.5000         0\n",
       "878       3  NaN      0      0   7.8958         0\n",
       "888       3  NaN      1      2  23.4500         0\n",
       "\n",
       "[177 rows x 6 columns]"
      ]
     },
     "execution_count": 143,
     "metadata": {},
     "output_type": "execute_result"
    }
   ],
   "source": [
    "# 결측치 확인\n",
    "print(titanic.isnull().sum())\n",
    "# 결측치 예시 확인\n",
    "titanic[titanic['age'].isnull()] # 나이가 기록되지 않은 데이터가 있는 것을 확인"
   ]
  },
  {
   "cell_type": "code",
   "execution_count": 144,
   "metadata": {},
   "outputs": [],
   "source": [
    "# 결측치 처리\n",
    "titanic['age'] = titanic['age'].fillna(titanic['age'].mean()) # 나이가 비어있는 경우 간단하게 전체 승객의 평균 나이로 대체 "
   ]
  },
  {
   "cell_type": "code",
   "execution_count": 145,
   "metadata": {},
   "outputs": [],
   "source": [
    "X = titanic[['pclass', 'age', 'sibsp', 'parch', 'fare']]\n",
    "y = titanic['survived']"
   ]
  },
  {
   "attachments": {},
   "cell_type": "markdown",
   "metadata": {},
   "source": [
    "### 3. 모델 후보군 선정"
   ]
  },
  {
   "attachments": {},
   "cell_type": "markdown",
   "metadata": {},
   "source": [
    "해당 실습에서 사용할 후보 모델은 다음과 같습니다. 오늘 강의는 각 모델에 대한 이해가 목표가 아니기 때문에 아래와 같이 간략한 설명으로 대체하겠습니다."
   ]
  },
  {
   "cell_type": "code",
   "execution_count": 146,
   "metadata": {},
   "outputs": [],
   "source": [
    "logistic_regression = LogisticRegression()\n",
    "decision_tree = DecisionTreeClassifier()\n",
    "svm = SVC()"
   ]
  },
  {
   "attachments": {},
   "cell_type": "markdown",
   "metadata": {},
   "source": [
    "### 4. 데이터 분할\n",
    "주어진 데이터를 분할하여 학습/평가/테스트 용 데이터를 생성하도록 하겠습니다.  \n",
    "이때 테스트용 데이터는 실제 서비스 및 공정 적용 상황이라 가정하고, 모델 평가 과정에 반영되지 않습니다. \n",
    "모델 개발 시에는 기존에 확보된 데이터를 이용하여 최적의 모델을 학습/선정해야 하기 때문에, 학습 및 평가 데이터를 이용하게 됩니다. "
   ]
  },
  {
   "attachments": {},
   "cell_type": "markdown",
   "metadata": {},
   "source": [
    "분류 문제에서 데이터 분할 시 고려해야 하는 점은 데이터 내 실제 label의 분포입니다. 즉, 학습/평가 데이터셋의 분포가 균등하게 추출되지 않았다면, 모델의 성능이 왜곡될 수 있습니다. 이를 고려하여 생존/사망을 균등하게 추출하도록 하겠습니다. "
   ]
  },
  {
   "cell_type": "code",
   "execution_count": 147,
   "metadata": {},
   "outputs": [],
   "source": [
    "# stratified sampling\n",
    "X_train_and_val, X_test, y_train_and_val, y_test = train_test_split(X, y, test_size=0.2, stratify=y, random_state=10)"
   ]
  },
  {
   "attachments": {},
   "cell_type": "markdown",
   "metadata": {},
   "source": [
    "반복적인 학습/평가 데이터 분할 및 평가 진행을 위해 학습/평가 데이터셋 분할 함수를 작성하겠습니다. "
   ]
  },
  {
   "cell_type": "code",
   "execution_count": 148,
   "metadata": {},
   "outputs": [],
   "source": [
    "def split_train_val(X_train_and_val, y_train_and_val, val_size = 0.3, seed = 42, stratify = True) :\n",
    "    \"\"\"\n",
    "    다음과 같이 데이터를 분할합니다.\n",
    "    1. train : 전체 데이터의 49%\n",
    "    2. validation : 전체 데이터의 21%\n",
    "    3. 사용하지 않는 데이터 : 전체 데이터의 30% (데이터 분포 실험을 위해 사용하지 않는 데이터를 따로 둡니다.)\n",
    "    \"\"\"\n",
    "    if stratify == True : \n",
    "        X_use, X_notuse, y_use, y_notuse = train_test_split(X_train_and_val, y_train_and_val, test_size=val_size, stratify=y_train_and_val, random_state=seed)\n",
    "        X_train, X_val, y_train, y_val = train_test_split(X_use, y_use, test_size=val_size, stratify=y_use, random_state=seed)\n",
    "    else :\n",
    "        # 데이터를 imbalance하게 분할하는 경우 startify를 [0번 클래스 비율 : 1번 클래스 비율]로 설정\n",
    "        len_0 = len(y_train_and_val[y_train_and_val == 0])\n",
    "        len_1 = len(y_train_and_val[y_train_and_val == 1])\n",
    "        total_len = len(y_train_and_val)\n",
    "\n",
    "        class_0_size = total_len*0.49*stratify[0] # 학습 데이터의 stratiy 비율에 맞게 0번 클래스의 데이터를 분할\n",
    "        class_1_size = total_len*0.49*stratify[1] # 학습 데이터의 stratiy 비율에 맞게 1번 클래스의 데이터를 분할\n",
    "\n",
    "        X_train, X_val, y_train, y_val = train_test_split(X_train_and_val, y_train_and_val, test_size=0.16, random_state=seed) # 전체 데이터의 16%를 validation 데이터로 사용\n",
    "\n",
    "        train_0 = [(X, y) for X, y in zip(X_train.iterrows(), y_train) if y == 0]\n",
    "        train_1 = [(X, y) for X, y in zip(X_train.iterrows(), y_train) if y == 1]\n",
    "\n",
    "        train_0 = random.sample(train_0, int(class_0_size))\n",
    "        train_1 = random.sample(train_1, int(class_1_size))\n",
    "\n",
    "        X_train, y_train = zip(*(train_0 + train_1))\n",
    "        X_train = pd.DataFrame([row[1] for row in X_train])\n",
    "\n",
    "    return X_train, X_val, y_train, y_val"
   ]
  },
  {
   "attachments": {},
   "cell_type": "markdown",
   "metadata": {},
   "source": [
    "\n",
    "### 5. 학습 및 평가"
   ]
  },
  {
   "cell_type": "code",
   "execution_count": 149,
   "metadata": {},
   "outputs": [],
   "source": [
    "def train_val_model(model, X_train, y_train, X_val, y_val) :\n",
    "    # 주어진 학습/평가 데이터를 이용하여 모델을 훈련 및 평가하는 함수입니다.\n",
    "    model_trained = copy.deepcopy(model)\n",
    "    model_trained.fit(X_train, y_train) # 학습 데이터를 이용하여 모델을 훈련합니다. \n",
    "    prediction = model_trained.predict(X_val) # 훈련된 모델을 검증 데이터에 적용하여 예측값을 구합니다.\n",
    "    confusion_matrix, accuracy, precision, recall, f1_score, auroc= get_metric(prediction, y_val) # 예측값과 검증 데이터의 평가지표를 구합니다.\n",
    "    return confusion_matrix, accuracy, precision, recall, f1_score, auroc"
   ]
  },
  {
   "cell_type": "code",
   "execution_count": 150,
   "metadata": {},
   "outputs": [],
   "source": [
    "def evaluate_model(model, X_train_and_val, y_train_and_val, stratify = True) :\n",
    "    # 주어진 전체 데이터를 이용하여 모델을 훈련하고, 전체 데이터에 대한 평가지표를 구하는 함수입니다. \n",
    "    acc_list = []\n",
    "    precision_list = []\n",
    "    recall_list = []\n",
    "    f1_list = []\n",
    "    auroc_list = []\n",
    "\n",
    "    for seed in range(10) :\n",
    "        X_train, X_val, y_train, y_val = split_train_val(X_train_and_val, y_train_and_val, val_size = 0.2, seed = seed, stratify = stratify)\n",
    "        confusion_matrix, accuracy, precision, recall, f1_score, auroc = train_val_model(model, X_train, y_train, X_val, y_val)\n",
    "        acc_list.append(accuracy)\n",
    "        precision_list.append(precision)\n",
    "        recall_list.append(recall)\n",
    "        f1_list.append(f1_score)\n",
    "        auroc_list.append(auroc)\n",
    "        print(f'SEED : {seed:<2}, ACCURACY : {accuracy:.4f}, PRECISION : {precision:.4f}, RECALL : {recall:.4f}, F1 : {f1_score:.4f}, AUROC : {auroc:.4f}')\n",
    "    print('---------------------------------------------------------------------')\n",
    "    return {'mean_performance' : {'accuracy' : np.mean(acc_list), 'precision' : np.mean(precision_list), 'recall' : np.mean(recall_list), 'f1' : np.mean(f1_list), 'auroc' : np.mean(auroc_list)}, \n",
    "            'performance_list' : {'accuracy' : acc_list, 'precision' : precision_list, 'recall' : recall_list, 'f1' : f1_list, 'auroc' : auroc_list}}"
   ]
  },
  {
   "attachments": {},
   "cell_type": "markdown",
   "metadata": {},
   "source": [
    "### 6. 후보 모델 평가 \n",
    "위에서 작성된 함수들을 바탕으로 실제 평가를 수행해보겠습니다. "
   ]
  },
  {
   "cell_type": "code",
   "execution_count": 151,
   "metadata": {},
   "outputs": [
    {
     "name": "stdout",
     "output_type": "stream",
     "text": [
      "SEED : 0 , ACCURACY : 0.7193, PRECISION : 0.6875, RECALL : 0.5000, F1 : 0.5789, AUROC : 0.6786\n",
      "SEED : 1 , ACCURACY : 0.6754, PRECISION : 0.6000, RECALL : 0.4773, F1 : 0.5316, AUROC : 0.6386\n",
      "SEED : 2 , ACCURACY : 0.7368, PRECISION : 0.7692, RECALL : 0.4545, F1 : 0.5714, AUROC : 0.6844\n",
      "SEED : 3 , ACCURACY : 0.7105, PRECISION : 0.6667, RECALL : 0.5000, F1 : 0.5714, AUROC : 0.6714\n",
      "SEED : 4 , ACCURACY : 0.6316, PRECISION : 0.5312, RECALL : 0.3864, F1 : 0.4474, AUROC : 0.5860\n",
      "SEED : 5 , ACCURACY : 0.6842, PRECISION : 0.6111, RECALL : 0.5000, F1 : 0.5500, AUROC : 0.6500\n",
      "SEED : 6 , ACCURACY : 0.6754, PRECISION : 0.5946, RECALL : 0.5000, F1 : 0.5432, AUROC : 0.6429\n",
      "SEED : 7 , ACCURACY : 0.7018, PRECISION : 0.6389, RECALL : 0.5227, F1 : 0.5750, AUROC : 0.6685\n",
      "SEED : 8 , ACCURACY : 0.7719, PRECISION : 0.8214, RECALL : 0.5227, F1 : 0.6389, AUROC : 0.7256\n",
      "SEED : 9 , ACCURACY : 0.7456, PRECISION : 0.7586, RECALL : 0.5000, F1 : 0.6027, AUROC : 0.7000\n",
      "---------------------------------------------------------------------\n",
      "SEED : 0 , ACCURACY : 0.6667, PRECISION : 0.5682, RECALL : 0.5682, F1 : 0.5682, AUROC : 0.6484\n",
      "SEED : 1 , ACCURACY : 0.6842, PRECISION : 0.5952, RECALL : 0.5682, F1 : 0.5814, AUROC : 0.6627\n",
      "SEED : 2 , ACCURACY : 0.6842, PRECISION : 0.5952, RECALL : 0.5682, F1 : 0.5814, AUROC : 0.6627\n",
      "SEED : 3 , ACCURACY : 0.6842, PRECISION : 0.5952, RECALL : 0.5682, F1 : 0.5814, AUROC : 0.6627\n",
      "SEED : 4 , ACCURACY : 0.6579, PRECISION : 0.5641, RECALL : 0.5000, F1 : 0.5301, AUROC : 0.6286\n",
      "SEED : 5 , ACCURACY : 0.6228, PRECISION : 0.5116, RECALL : 0.5000, F1 : 0.5057, AUROC : 0.6000\n",
      "SEED : 6 , ACCURACY : 0.5789, PRECISION : 0.4500, RECALL : 0.4091, F1 : 0.4286, AUROC : 0.5474\n",
      "SEED : 7 , ACCURACY : 0.6316, PRECISION : 0.5278, RECALL : 0.4318, F1 : 0.4750, AUROC : 0.5945\n",
      "SEED : 8 , ACCURACY : 0.6228, PRECISION : 0.5128, RECALL : 0.4545, F1 : 0.4819, AUROC : 0.5916\n",
      "SEED : 9 , ACCURACY : 0.6404, PRECISION : 0.5385, RECALL : 0.4773, F1 : 0.5060, AUROC : 0.6101\n",
      "---------------------------------------------------------------------\n",
      "SEED : 0 , ACCURACY : 0.6930, PRECISION : 0.7143, RECALL : 0.3409, F1 : 0.4615, AUROC : 0.6276\n",
      "SEED : 1 , ACCURACY : 0.6667, PRECISION : 0.5938, RECALL : 0.4318, F1 : 0.5000, AUROC : 0.6231\n",
      "SEED : 2 , ACCURACY : 0.7193, PRECISION : 0.8750, RECALL : 0.3182, F1 : 0.4667, AUROC : 0.6448\n",
      "SEED : 3 , ACCURACY : 0.6754, PRECISION : 0.6667, RECALL : 0.3182, F1 : 0.4308, AUROC : 0.6091\n",
      "SEED : 4 , ACCURACY : 0.6228, PRECISION : 0.5238, RECALL : 0.2500, F1 : 0.3385, AUROC : 0.5536\n",
      "SEED : 5 , ACCURACY : 0.6754, PRECISION : 0.6296, RECALL : 0.3864, F1 : 0.4789, AUROC : 0.6218\n",
      "SEED : 6 , ACCURACY : 0.7018, PRECISION : 0.8571, RECALL : 0.2727, F1 : 0.4138, AUROC : 0.6221\n",
      "SEED : 7 , ACCURACY : 0.6667, PRECISION : 0.6364, RECALL : 0.3182, F1 : 0.4242, AUROC : 0.6019\n",
      "SEED : 8 , ACCURACY : 0.6842, PRECISION : 0.7000, RECALL : 0.3182, F1 : 0.4375, AUROC : 0.6162\n",
      "SEED : 9 , ACCURACY : 0.6754, PRECISION : 0.6842, RECALL : 0.2955, F1 : 0.4127, AUROC : 0.6049\n",
      "---------------------------------------------------------------------\n"
     ]
    },
    {
     "data": {
      "text/html": [
       "<div>\n",
       "<style scoped>\n",
       "    .dataframe tbody tr th:only-of-type {\n",
       "        vertical-align: middle;\n",
       "    }\n",
       "\n",
       "    .dataframe tbody tr th {\n",
       "        vertical-align: top;\n",
       "    }\n",
       "\n",
       "    .dataframe thead th {\n",
       "        text-align: right;\n",
       "    }\n",
       "</style>\n",
       "<table border=\"1\" class=\"dataframe\">\n",
       "  <thead>\n",
       "    <tr style=\"text-align: right;\">\n",
       "      <th></th>\n",
       "      <th>model</th>\n",
       "      <th>accuracy</th>\n",
       "      <th>precision</th>\n",
       "      <th>recall</th>\n",
       "      <th>f1_score</th>\n",
       "      <th>auroc</th>\n",
       "    </tr>\n",
       "  </thead>\n",
       "  <tbody>\n",
       "    <tr>\n",
       "      <th>0</th>\n",
       "      <td>logistic_regression</td>\n",
       "      <td>0.705263</td>\n",
       "      <td>0.667929</td>\n",
       "      <td>0.486364</td>\n",
       "      <td>0.561066</td>\n",
       "      <td>0.664610</td>\n",
       "    </tr>\n",
       "    <tr>\n",
       "      <th>1</th>\n",
       "      <td>decision_tree</td>\n",
       "      <td>0.647368</td>\n",
       "      <td>0.545869</td>\n",
       "      <td>0.504545</td>\n",
       "      <td>0.523976</td>\n",
       "      <td>0.620844</td>\n",
       "    </tr>\n",
       "    <tr>\n",
       "      <th>2</th>\n",
       "      <td>svm</td>\n",
       "      <td>0.678070</td>\n",
       "      <td>0.688086</td>\n",
       "      <td>0.325000</td>\n",
       "      <td>0.436454</td>\n",
       "      <td>0.612500</td>\n",
       "    </tr>\n",
       "  </tbody>\n",
       "</table>\n",
       "</div>"
      ],
      "text/plain": [
       "                 model  accuracy  precision    recall  f1_score     auroc\n",
       "0  logistic_regression  0.705263   0.667929  0.486364  0.561066  0.664610\n",
       "1        decision_tree  0.647368   0.545869  0.504545  0.523976  0.620844\n",
       "2                  svm  0.678070   0.688086  0.325000  0.436454  0.612500"
      ]
     },
     "execution_count": 151,
     "metadata": {},
     "output_type": "execute_result"
    }
   ],
   "source": [
    "result_df = pd.DataFrame(columns=['model', 'accuracy', 'precision', 'recall', 'f1_score', 'auroc'])\n",
    "\n",
    "logistic_regression_performance = evaluate_model(logistic_regression, X_train_and_val, y_train_and_val)\n",
    "result_df.loc[0] = ['logistic_regression'] + list(logistic_regression_performance['mean_performance'].values())\n",
    "\n",
    "decision_tree_performance = evaluate_model(decision_tree, X_train_and_val, y_train_and_val)\n",
    "result_df.loc[1] = ['decision_tree'] + list(decision_tree_performance['mean_performance'].values())\n",
    "\n",
    "svm_performance = evaluate_model(svm, X_train_and_val, y_train_and_val)\n",
    "result_df.loc[2] = ['svm'] + list(svm_performance['mean_performance'].values())\n",
    "\n",
    "result_df\n"
   ]
  },
  {
   "attachments": {},
   "cell_type": "markdown",
   "metadata": {},
   "source": [
    "### 6-1. 학습 데이터 분포별 성능 평가\n",
    "위 실험은 학습 데이터의 분포를 고려하지 않고, 단순 성능만 측정한 결과입니다.  \n",
    "하지만 학습 데이터는 특정 클래스가 더 많은 불균형(imbalance) 상황입니다.  "
   ]
  },
  {
   "cell_type": "code",
   "execution_count": 152,
   "metadata": {},
   "outputs": [
    {
     "name": "stdout",
     "output_type": "stream",
     "text": [
      "전체 학습 데이터 클래스 분포 : \n",
      "0    439\n",
      "1    273\n",
      "Name: survived, dtype: int64\n",
      "\n",
      "전체 검증 데이터 클래스 분포 : \n",
      "0    110\n",
      "1     69\n",
      "Name: survived, dtype: int64\n",
      "\n"
     ]
    }
   ],
   "source": [
    "print(f\"전체 학습 데이터 클래스 분포 : \\n{y_train_and_val.value_counts()}\\n\")\n",
    "print(f\"전체 검증 데이터 클래스 분포 : \\n{y_test.value_counts()}\\n\")"
   ]
  },
  {
   "attachments": {},
   "cell_type": "markdown",
   "metadata": {},
   "source": [
    "하지만, 실제로는 학습 클래스 내 데이터 분포에 따라 성능이 변화하게 됩니다. 자세한 내용은 향후 강의에서 다뤄질 예정이므로, 학습 데이터 클래스 분포에 따른 지표별 변화만 살펴보겠습니다. "
   ]
  },
  {
   "cell_type": "code",
   "execution_count": 153,
   "metadata": {},
   "outputs": [
    {
     "name": "stdout",
     "output_type": "stream",
     "text": [
      "============================== 1번째 실험 ==============================\n",
      "SEED : 0 , ACCURACY : 0.7456, PRECISION : 0.6957, RECALL : 0.6809, F1 : 0.6882, AUROC : 0.7359\n",
      "SEED : 1 , ACCURACY : 0.7193, PRECISION : 0.6579, RECALL : 0.5682, F1 : 0.6098, AUROC : 0.6912\n",
      "SEED : 2 , ACCURACY : 0.7018, PRECISION : 0.5526, RECALL : 0.5526, F1 : 0.5526, AUROC : 0.6645\n",
      "SEED : 3 , ACCURACY : 0.6228, PRECISION : 0.4884, RECALL : 0.5000, F1 : 0.4941, AUROC : 0.5972\n",
      "SEED : 4 , ACCURACY : 0.6404, PRECISION : 0.4694, RECALL : 0.6053, F1 : 0.5287, AUROC : 0.6316\n",
      "SEED : 5 , ACCURACY : 0.7544, PRECISION : 0.6744, RECALL : 0.6744, F1 : 0.6744, AUROC : 0.7386\n",
      "SEED : 6 , ACCURACY : 0.7105, PRECISION : 0.6400, RECALL : 0.6809, F1 : 0.6598, AUROC : 0.7061\n",
      "SEED : 7 , ACCURACY : 0.6404, PRECISION : 0.5116, RECALL : 0.5238, F1 : 0.5176, AUROC : 0.6161\n",
      "SEED : 8 , ACCURACY : 0.7544, PRECISION : 0.5849, RECALL : 0.8378, F1 : 0.6889, AUROC : 0.7761\n",
      "SEED : 9 , ACCURACY : 0.6754, PRECISION : 0.4773, RECALL : 0.6000, F1 : 0.5316, AUROC : 0.6544\n",
      "---------------------------------------------------------------------\n",
      "============================== 2번째 실험 ==============================\n",
      "SEED : 0 , ACCURACY : 0.6667, PRECISION : 0.6552, RECALL : 0.4043, F1 : 0.5000, AUROC : 0.6275\n",
      "SEED : 1 , ACCURACY : 0.7105, PRECISION : 0.7200, RECALL : 0.4091, F1 : 0.5217, AUROC : 0.6545\n",
      "SEED : 2 , ACCURACY : 0.7456, PRECISION : 0.6452, RECALL : 0.5263, F1 : 0.5797, AUROC : 0.6908\n",
      "SEED : 3 , ACCURACY : 0.6404, PRECISION : 0.5185, RECALL : 0.3333, F1 : 0.4058, AUROC : 0.5764\n",
      "SEED : 4 , ACCURACY : 0.6930, PRECISION : 0.5455, RECALL : 0.4737, F1 : 0.5070, AUROC : 0.6382\n",
      "SEED : 5 , ACCURACY : 0.7544, PRECISION : 0.7143, RECALL : 0.5814, F1 : 0.6410, AUROC : 0.7203\n",
      "SEED : 6 , ACCURACY : 0.7018, PRECISION : 0.6857, RECALL : 0.5106, F1 : 0.5854, AUROC : 0.6732\n",
      "SEED : 7 , ACCURACY : 0.7105, PRECISION : 0.7143, RECALL : 0.3571, F1 : 0.4762, AUROC : 0.6369\n",
      "SEED : 8 , ACCURACY : 0.8158, PRECISION : 0.7000, RECALL : 0.7568, F1 : 0.7273, AUROC : 0.8005\n",
      "SEED : 9 , ACCURACY : 0.7281, PRECISION : 0.5769, RECALL : 0.4286, F1 : 0.4918, AUROC : 0.6447\n",
      "---------------------------------------------------------------------\n",
      "============================== 3번째 실험 ==============================\n",
      "SEED : 0 , ACCURACY : 0.6404, PRECISION : 0.6500, RECALL : 0.2766, F1 : 0.3881, AUROC : 0.5861\n",
      "SEED : 1 , ACCURACY : 0.6842, PRECISION : 0.7857, RECALL : 0.2500, F1 : 0.3793, AUROC : 0.6036\n",
      "SEED : 2 , ACCURACY : 0.7719, PRECISION : 0.7727, RECALL : 0.4474, F1 : 0.5667, AUROC : 0.6908\n",
      "SEED : 3 , ACCURACY : 0.6404, PRECISION : 0.5263, RECALL : 0.2381, F1 : 0.3279, AUROC : 0.5565\n",
      "SEED : 4 , ACCURACY : 0.7544, PRECISION : 0.7273, RECALL : 0.4211, F1 : 0.5333, AUROC : 0.6711\n",
      "SEED : 5 , ACCURACY : 0.7281, PRECISION : 0.8000, RECALL : 0.3721, F1 : 0.5079, AUROC : 0.6579\n",
      "SEED : 6 , ACCURACY : 0.6404, PRECISION : 0.6667, RECALL : 0.2553, F1 : 0.3692, AUROC : 0.5829\n",
      "SEED : 7 , ACCURACY : 0.6930, PRECISION : 0.7692, RECALL : 0.2381, F1 : 0.3636, AUROC : 0.5982\n",
      "SEED : 8 , ACCURACY : 0.7456, PRECISION : 0.6818, RECALL : 0.4054, F1 : 0.5085, AUROC : 0.6572\n",
      "SEED : 9 , ACCURACY : 0.7632, PRECISION : 0.7222, RECALL : 0.3714, F1 : 0.4906, AUROC : 0.6541\n",
      "---------------------------------------------------------------------\n",
      "============================== 4번째 실험 ==============================\n",
      "SEED : 0 , ACCURACY : 0.6228, PRECISION : 0.7500, RECALL : 0.1277, F1 : 0.2182, AUROC : 0.5489\n",
      "SEED : 1 , ACCURACY : 0.6579, PRECISION : 0.8571, RECALL : 0.1364, F1 : 0.2353, AUROC : 0.5610\n",
      "SEED : 2 , ACCURACY : 0.7193, PRECISION : 0.8750, RECALL : 0.1842, F1 : 0.3043, AUROC : 0.5855\n",
      "SEED : 3 , ACCURACY : 0.6579, PRECISION : 0.8000, RECALL : 0.0952, F1 : 0.1702, AUROC : 0.5407\n",
      "SEED : 4 , ACCURACY : 0.6930, PRECISION : 0.6667, RECALL : 0.1579, F1 : 0.2553, AUROC : 0.5592\n",
      "SEED : 5 , ACCURACY : 0.7018, PRECISION : 0.8462, RECALL : 0.2558, F1 : 0.3929, AUROC : 0.6138\n",
      "SEED : 6 , ACCURACY : 0.6316, PRECISION : 0.7273, RECALL : 0.1702, F1 : 0.2759, AUROC : 0.5627\n",
      "SEED : 7 , ACCURACY : 0.6491, PRECISION : 0.7500, RECALL : 0.0714, F1 : 0.1304, AUROC : 0.5288\n",
      "SEED : 8 , ACCURACY : 0.7544, PRECISION : 0.7647, RECALL : 0.3514, F1 : 0.4815, AUROC : 0.6497\n",
      "SEED : 9 , ACCURACY : 0.7632, PRECISION : 0.8333, RECALL : 0.2857, F1 : 0.4255, AUROC : 0.6302\n",
      "---------------------------------------------------------------------\n"
     ]
    }
   ],
   "source": [
    "result_df = pd.DataFrame(columns=['1번 클래스 비율', 'accuracy', 'precision', 'recall', 'f1_score', 'auroc'])\n",
    "\n",
    "for idx, class_1_ratio in enumerate([0.5, 0.4, 0.3, 0.2]) :\n",
    "    print(f'============================== {idx+1}번째 실험 ==============================')\n",
    "    class_0_ratio = 1 - class_1_ratio\n",
    "    logistic_regression_performance = evaluate_model(logistic_regression, X_train_and_val, y_train_and_val, stratify = [class_0_ratio, class_1_ratio])\n",
    "    result_df.loc[idx] = [class_1_ratio] + list(logistic_regression_performance['mean_performance'].values())\n"
   ]
  },
  {
   "attachments": {},
   "cell_type": "markdown",
   "metadata": {},
   "source": [
    "학습/평가 데이터의 크기를 동일하게 유지한 채, 학습 데이터에서 클래스의 비율만 변경하여 실험을 진행하면, 다음과 같은 결과를 얻을 수 있습니다.  \n",
    "정확도는 큰 변화가 없지만, precision, recall, f1_score, auroc 측면에서는 뚜렷한 양상을 보이고 있습니다.  \n",
    "학습 데이터에서 1번 클래스의 수가 줄어들 수록, precision은 증가하고, recall과 f1_score, auroc는 감소하는 모습을 보이고 있습니다. "
   ]
  },
  {
   "cell_type": "code",
   "execution_count": 154,
   "metadata": {},
   "outputs": [
    {
     "data": {
      "text/html": [
       "<div>\n",
       "<style scoped>\n",
       "    .dataframe tbody tr th:only-of-type {\n",
       "        vertical-align: middle;\n",
       "    }\n",
       "\n",
       "    .dataframe tbody tr th {\n",
       "        vertical-align: top;\n",
       "    }\n",
       "\n",
       "    .dataframe thead th {\n",
       "        text-align: right;\n",
       "    }\n",
       "</style>\n",
       "<table border=\"1\" class=\"dataframe\">\n",
       "  <thead>\n",
       "    <tr style=\"text-align: right;\">\n",
       "      <th></th>\n",
       "      <th>1번 클래스 비율</th>\n",
       "      <th>accuracy</th>\n",
       "      <th>precision</th>\n",
       "      <th>recall</th>\n",
       "      <th>f1_score</th>\n",
       "      <th>auroc</th>\n",
       "    </tr>\n",
       "  </thead>\n",
       "  <tbody>\n",
       "    <tr>\n",
       "      <th>0</th>\n",
       "      <td>0.5</td>\n",
       "      <td>0.696491</td>\n",
       "      <td>0.575216</td>\n",
       "      <td>0.622384</td>\n",
       "      <td>0.594581</td>\n",
       "      <td>0.681174</td>\n",
       "    </tr>\n",
       "    <tr>\n",
       "      <th>1</th>\n",
       "      <td>0.4</td>\n",
       "      <td>0.716667</td>\n",
       "      <td>0.647552</td>\n",
       "      <td>0.478118</td>\n",
       "      <td>0.543595</td>\n",
       "      <td>0.666291</td>\n",
       "    </tr>\n",
       "    <tr>\n",
       "      <th>2</th>\n",
       "      <td>0.3</td>\n",
       "      <td>0.706140</td>\n",
       "      <td>0.710197</td>\n",
       "      <td>0.327545</td>\n",
       "      <td>0.443508</td>\n",
       "      <td>0.625831</td>\n",
       "    </tr>\n",
       "    <tr>\n",
       "      <th>3</th>\n",
       "      <td>0.2</td>\n",
       "      <td>0.685088</td>\n",
       "      <td>0.787028</td>\n",
       "      <td>0.183589</td>\n",
       "      <td>0.288952</td>\n",
       "      <td>0.578057</td>\n",
       "    </tr>\n",
       "  </tbody>\n",
       "</table>\n",
       "</div>"
      ],
      "text/plain": [
       "   1번 클래스 비율  accuracy  precision    recall  f1_score     auroc\n",
       "0        0.5  0.696491   0.575216  0.622384  0.594581  0.681174\n",
       "1        0.4  0.716667   0.647552  0.478118  0.543595  0.666291\n",
       "2        0.3  0.706140   0.710197  0.327545  0.443508  0.625831\n",
       "3        0.2  0.685088   0.787028  0.183589  0.288952  0.578057"
      ]
     },
     "execution_count": 154,
     "metadata": {},
     "output_type": "execute_result"
    }
   ],
   "source": [
    "result_df"
   ]
  },
  {
   "attachments": {},
   "cell_type": "markdown",
   "metadata": {},
   "source": [
    "이러한 경향은 Confusion Matrix를 통해 더욱 분명하게 확인할 수 있습니다.  \n",
    "최종 모델을 훈련하면서 다시 확인해보겠습니다. "
   ]
  },
  {
   "attachments": {},
   "cell_type": "markdown",
   "metadata": {},
   "source": [
    "### 7. 최종 모델 훈련 및 성능 측정\n",
    "최종적으로 accuracy, precision 기준으로는 logistic regression의 성능이 우수해 보이나, recall 및 f1 score 기준으로는 decision tree의 성능이 우수한 상황입니다.  \n",
    "이때 생존자를 찾아내는 것이 중요하다고 판단한다면, Recall이 더 중요한 지표가 될 수 있습니다. 이에 따라 logistic regression을 최종 모델로 선택하겠습니다.   \n",
    "\n",
    "이제 최종 모델에 대한 test 성능을 측정해보겠습니다. "
   ]
  },
  {
   "cell_type": "code",
   "execution_count": 157,
   "metadata": {},
   "outputs": [],
   "source": [
    "confusion_matrix, accuracy, precision, recall, f1_score, auroc = train_val_model(logistic_regression, X_train_and_val, y_train_and_val, X_test, y_test)"
   ]
  },
  {
   "cell_type": "code",
   "execution_count": 158,
   "metadata": {},
   "outputs": [
    {
     "name": "stdout",
     "output_type": "stream",
     "text": [
      "ACCURACY : 0.6983\n",
      "PRECISION : 0.6596\n",
      "RECALL : 0.4493\n",
      "F1 SCORE : 0.5345\n",
      "AUROC : 0.6519\n"
     ]
    }
   ],
   "source": [
    "print(f'ACCURACY : {accuracy:.4f}\\nPRECISION : {precision:.4f}\\nRECALL : {recall:.4f}\\nF1 SCORE : {f1_score:.4f}\\nAUROC : {auroc:.4f}')"
   ]
  },
  {
   "attachments": {},
   "cell_type": "markdown",
   "metadata": {},
   "source": [
    "최종 학습 데이터의 크기를 조절하면서, 다시 최종 성능을 도출해보도록 하겠습니다. "
   ]
  },
  {
   "cell_type": "code",
   "execution_count": 174,
   "metadata": {},
   "outputs": [
    {
     "name": "stdout",
     "output_type": "stream",
     "text": [
      "============================== 학습 데이터 내 생존 클래스 비율 : 0.5 ==============================\n",
      "Actual       0   1  All\n",
      "Predicted              \n",
      "0           77  30  107\n",
      "1           33  39   72\n",
      "All        110  69  179\n",
      "============================== 학습 데이터 내 생존 클래스 비율 : 0.4 ==============================\n",
      "Actual       0   1  All\n",
      "Predicted              \n",
      "0           83  36  119\n",
      "1           27  33   60\n",
      "All        110  69  179\n",
      "============================== 학습 데이터 내 생존 클래스 비율 : 0.3 ==============================\n",
      "Actual       0   1  All\n",
      "Predicted              \n",
      "0           99  43  142\n",
      "1           11  26   37\n",
      "All        110  69  179\n",
      "============================== 학습 데이터 내 생존 클래스 비율 : 0.2 ==============================\n",
      "Actual       0   1  All\n",
      "Predicted              \n",
      "0          104  48  152\n",
      "1            6  21   27\n",
      "All        110  69  179\n"
     ]
    }
   ],
   "source": [
    "result_df = pd.DataFrame(columns=['1번 클래스 비율', 'accuracy', 'precision', 'recall', 'f1_score', 'auroc'])\n",
    "for idx, class_1_ratio in enumerate([0.5, 0.4, 0.3, 0.2]) :\n",
    "    print(f'============================== 학습 데이터 내 생존 클래스 비율 : {class_1_ratio} ==============================')\n",
    "    class_0_ratio = 1 - class_1_ratio\n",
    "    train_X, _, train_y, _ = split_train_val(X_train_and_val, y_train_and_val, val_size = 0.3, seed = 42, stratify = [class_0_ratio, class_1_ratio]) \n",
    "    confusion_matrix, accuracy, precision, recall, f1_score, auroc = train_val_model(logistic_regression, train_X, train_y, X_test, y_test)\n",
    "    result_df.loc[idx] = [class_1_ratio] + [accuracy, precision, recall, f1_score, auroc]\n",
    "    print(confusion_matrix)"
   ]
  },
  {
   "cell_type": "code",
   "execution_count": 175,
   "metadata": {},
   "outputs": [
    {
     "data": {
      "text/html": [
       "<div>\n",
       "<style scoped>\n",
       "    .dataframe tbody tr th:only-of-type {\n",
       "        vertical-align: middle;\n",
       "    }\n",
       "\n",
       "    .dataframe tbody tr th {\n",
       "        vertical-align: top;\n",
       "    }\n",
       "\n",
       "    .dataframe thead th {\n",
       "        text-align: right;\n",
       "    }\n",
       "</style>\n",
       "<table border=\"1\" class=\"dataframe\">\n",
       "  <thead>\n",
       "    <tr style=\"text-align: right;\">\n",
       "      <th></th>\n",
       "      <th>1번 클래스 비율</th>\n",
       "      <th>accuracy</th>\n",
       "      <th>precision</th>\n",
       "      <th>recall</th>\n",
       "      <th>f1_score</th>\n",
       "      <th>auroc</th>\n",
       "    </tr>\n",
       "  </thead>\n",
       "  <tbody>\n",
       "    <tr>\n",
       "      <th>0</th>\n",
       "      <td>0.5</td>\n",
       "      <td>0.648045</td>\n",
       "      <td>0.541667</td>\n",
       "      <td>0.565217</td>\n",
       "      <td>0.553191</td>\n",
       "      <td>0.632609</td>\n",
       "    </tr>\n",
       "    <tr>\n",
       "      <th>1</th>\n",
       "      <td>0.4</td>\n",
       "      <td>0.648045</td>\n",
       "      <td>0.550000</td>\n",
       "      <td>0.478261</td>\n",
       "      <td>0.511628</td>\n",
       "      <td>0.616403</td>\n",
       "    </tr>\n",
       "    <tr>\n",
       "      <th>2</th>\n",
       "      <td>0.3</td>\n",
       "      <td>0.698324</td>\n",
       "      <td>0.702703</td>\n",
       "      <td>0.376812</td>\n",
       "      <td>0.490566</td>\n",
       "      <td>0.638406</td>\n",
       "    </tr>\n",
       "    <tr>\n",
       "      <th>3</th>\n",
       "      <td>0.2</td>\n",
       "      <td>0.698324</td>\n",
       "      <td>0.777778</td>\n",
       "      <td>0.304348</td>\n",
       "      <td>0.437500</td>\n",
       "      <td>0.624901</td>\n",
       "    </tr>\n",
       "  </tbody>\n",
       "</table>\n",
       "</div>"
      ],
      "text/plain": [
       "   1번 클래스 비율  accuracy  precision    recall  f1_score     auroc\n",
       "0        0.5  0.648045   0.541667  0.565217  0.553191  0.632609\n",
       "1        0.4  0.648045   0.550000  0.478261  0.511628  0.616403\n",
       "2        0.3  0.698324   0.702703  0.376812  0.490566  0.638406\n",
       "3        0.2  0.698324   0.777778  0.304348  0.437500  0.624901"
      ]
     },
     "execution_count": 175,
     "metadata": {},
     "output_type": "execute_result"
    }
   ],
   "source": [
    "result_df"
   ]
  },
  {
   "attachments": {},
   "cell_type": "markdown",
   "metadata": {},
   "source": [
    "정확도만 본다면, 0번 클래스와 1번 클래스 비율이 8:2인 경우가 가장 성능이 좋아보입니다.  \n",
    "하지만, Confusion Matrix를 살펴보거나, recall, f1_score, auroc 등을 살펴보면, 두 클래스가 균등하게 1:1로 학습된 경우 가장 성능이 좋은 모습을 확인할 수 있습니다.  \n",
    "그 원인은 모델이 불균형한 데이터에 학습되거나, 평가 데이터가 불균형할 경우 Accuracy에서 왜곡이 발생하기 때문입니다. 위 경우에 있어서도, test 데이터에 0번 클래스 데이터가 훨씬 많기 때문에 0번 클래스만 잘 예측한다면 accuracy가 올라가게 됩니다.  \n",
    "하지만 실제 적용 시에는 수행하는 업무(이상치 탐지 등) 및 확보된 데이터 상황에 따라, 잘 맞추어야 하는 클래스가 특정될 수 있습니다. "
   ]
  },
  {
   "attachments": {},
   "cell_type": "markdown",
   "metadata": {},
   "source": [
    "이와 같이 학습된 모델의 성능 평가 시에는 단순하게 하나의 지표로 살펴볼 것이 아니라, 다양한 지표를 활용해 종합적으로 판단할 필요가 있습니다. "
   ]
  },
  {
   "attachments": {},
   "cell_type": "markdown",
   "metadata": {},
   "source": []
  }
 ],
 "metadata": {
  "kernelspec": {
   "display_name": "base",
   "language": "python",
   "name": "python3"
  },
  "language_info": {
   "codemirror_mode": {
    "name": "ipython",
    "version": 3
   },
   "file_extension": ".py",
   "mimetype": "text/x-python",
   "name": "python",
   "nbconvert_exporter": "python",
   "pygments_lexer": "ipython3",
   "version": "3.8.13"
  },
  "orig_nbformat": 4
 },
 "nbformat": 4,
 "nbformat_minor": 2
}
